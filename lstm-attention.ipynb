{
 "cells": [
  {
   "cell_type": "code",
   "execution_count": 102,
   "metadata": {},
   "outputs": [],
   "source": [
    "# We set the backend to TensorFlow. The code works with\n",
    "# both `tensorflow` and `torch`. It does not work with JAX\n",
    "# due to the behavior of `jax.numpy.tile` in a jit scope\n",
    "# (used in `TransformerDecoder.get_causal_attention_mask()`:\n",
    "# `tile` in JAX does not support a dynamic `reps` argument.\n",
    "# You can make the code work in JAX by wrapping the\n",
    "# inside of the `get_causal_attention_mask` method in\n",
    "# a decorator to prevent jit compilation:\n",
    "# `with jax.ensure_compile_time_eval():`.\n",
    "import os\n",
    "\n",
    "os.environ[\"KERAS_BACKEND\"] = \"tensorflow\"\n",
    "\n",
    "\n",
    "import pathlib\n",
    "import random\n",
    "import string\n",
    "import re\n",
    "import numpy as np\n",
    "\n",
    "import tensorflow.data as tf_data\n",
    "import tensorflow.strings as tf_strings\n",
    "import tensorflow_datasets.public_api as tfds\n",
    "\n",
    "import keras\n",
    "from keras import layers\n",
    "from keras import ops\n",
    "from keras.layers import TextVectorization"
   ]
  },
  {
   "cell_type": "code",
   "execution_count": 103,
   "metadata": {},
   "outputs": [
    {
     "name": "stdout",
     "output_type": "stream",
     "text": [
      "('Je ne supporte pas ce type.', '[start] Eu não suporto esse tipo. [end]')\n"
     ]
    }
   ],
   "source": [
    "text_pairs = []\n",
    "\n",
    "with open(\"data.tsv\", \"r\", encoding=\"utf-8\") as f:\n",
    "    for line in f:\n",
    "        # Strip any extra whitespace and split the line by tabs\n",
    "        fields = line.strip().split(\"\\t\")\n",
    "        # Ensure the line has at least 4 fields (indexes 0 to 3)\n",
    "        if len(fields) < 4:\n",
    "            continue\n",
    "        french = fields[1]  # second column\n",
    "        portuguese = \"[start] \" + fields[3] + \" [end]\"  # fourth column\n",
    "        text_pairs.append((french, portuguese))\n",
    "\n",
    "# Print the first pair to verify\n",
    "print(text_pairs[0])"
   ]
  },
  {
   "cell_type": "code",
   "execution_count": 104,
   "metadata": {},
   "outputs": [
    {
     "name": "stdout",
     "output_type": "stream",
     "text": [
      "('Les framboises sont chères en hiver.', '[start] As framboesas são caras no inverno. [end]')\n",
      "(\"Il s'adonne au tennis, mais son frère aîné est plus porté par le football et le baseball.\", '[start] Ele joga tênis, mas seu irmão mais velho gosta mais de futebol e basquetebol. [end]')\n",
      "('Celui qui dort jusqu’à midi se met alors à cavaler.', '[start] Aquele que dorme até ao meio-dia põe-se depois a correr. [end]')\n",
      "('Je te ferai un nouveau costume.', '[start] Vou te fazer um novo conjunto. [end]')\n",
      "('Je ne suis pas un héros.', '[start] Não sou um herói. [end]')\n"
     ]
    }
   ],
   "source": [
    "for _ in range(5):\n",
    "    print(random.choice(text_pairs))"
   ]
  },
  {
   "cell_type": "code",
   "execution_count": 105,
   "metadata": {},
   "outputs": [
    {
     "name": "stdout",
     "output_type": "stream",
     "text": [
      "33030 total pairs\n",
      "23122 training pairs\n",
      "4954 validation pairs\n",
      "4954 test pairs\n"
     ]
    }
   ],
   "source": [
    "random.shuffle(text_pairs)\n",
    "num_val_samples = int(0.15 * len(text_pairs))\n",
    "num_train_samples = len(text_pairs) - 2 * num_val_samples\n",
    "train_pairs = text_pairs[:num_train_samples]\n",
    "val_pairs = text_pairs[num_train_samples : num_train_samples + num_val_samples]\n",
    "test_pairs = text_pairs[num_train_samples + num_val_samples :]\n",
    "\n",
    "print(f\"{len(text_pairs)} total pairs\")\n",
    "print(f\"{len(train_pairs)} training pairs\")\n",
    "print(f\"{len(val_pairs)} validation pairs\")\n",
    "print(f\"{len(test_pairs)} test pairs\")"
   ]
  },
  {
   "cell_type": "code",
   "execution_count": 106,
   "metadata": {},
   "outputs": [],
   "source": [
    "strip_chars = string.punctuation + \"«\" + \"»\"\n",
    "strip_chars = strip_chars.replace(\"[\", \"\")\n",
    "strip_chars = strip_chars.replace(\"]\", \"\")\n",
    "\n",
    "vocab_size = 25000\n",
    "sequence_length = 20\n",
    "batch_size = 64\n",
    "\n",
    "\n",
    "def custom_standardization(input_string):\n",
    "    lowercase = tf_strings.lower(input_string)\n",
    "    return tf_strings.regex_replace(lowercase, \"[%s]\" % re.escape(strip_chars), \"\")\n",
    "\n",
    "\n",
    "french_vectorization = TextVectorization(\n",
    "    max_tokens=vocab_size,\n",
    "    output_mode=\"int\",\n",
    "    output_sequence_length=sequence_length,\n",
    ")\n",
    "portuguese_vectorization = TextVectorization(\n",
    "    max_tokens=vocab_size,\n",
    "    output_mode=\"int\",\n",
    "    output_sequence_length=sequence_length + 1,\n",
    "    standardize=custom_standardization,\n",
    ")\n",
    "train_french_texts = [pair[0] for pair in train_pairs]\n",
    "train_portuguese_texts = [pair[1] for pair in train_pairs]\n",
    "french_vectorization.adapt(train_french_texts)\n",
    "portuguese_vectorization.adapt(train_portuguese_texts)"
   ]
  },
  {
   "cell_type": "code",
   "execution_count": 107,
   "metadata": {},
   "outputs": [],
   "source": [
    "def format_dataset(french, portuguese):\n",
    "    french = french_vectorization(french)\n",
    "    portuguese = portuguese_vectorization(portuguese)\n",
    "    return (\n",
    "        {\n",
    "            \"encoder_inputs\": french,\n",
    "            \"decoder_inputs\": portuguese[:, :-1],\n",
    "        },\n",
    "        portuguese[:, 1:],\n",
    "    )\n",
    "\n",
    "\n",
    "def make_dataset(pairs):\n",
    "    french_texts, portuguese_texts = zip(*pairs)\n",
    "    french_texts = list(french_texts)\n",
    "    portuguese_texts = list(portuguese_texts)\n",
    "    dataset = tf_data.Dataset.from_tensor_slices((french_texts, portuguese_texts))\n",
    "    dataset = dataset.batch(batch_size)\n",
    "    dataset = dataset.map(format_dataset)\n",
    "    return dataset.cache().shuffle(2048).prefetch(16)\n",
    "\n",
    "\n",
    "train_ds = make_dataset(train_pairs)\n",
    "val_ds = make_dataset(val_pairs)"
   ]
  },
  {
   "cell_type": "code",
   "execution_count": 108,
   "metadata": {},
   "outputs": [
    {
     "name": "stdout",
     "output_type": "stream",
     "text": [
      "inputs[\"encoder_inputs\"].shape: (64, 20)\n",
      "inputs[\"decoder_inputs\"].shape: (64, 20)\n",
      "targets.shape: (64, 20)\n"
     ]
    },
    {
     "name": "stderr",
     "output_type": "stream",
     "text": [
      "2025-02-09 14:16:39.644161: I tensorflow/core/framework/local_rendezvous.cc:405] Local rendezvous is aborting with status: OUT_OF_RANGE: End of sequence\n"
     ]
    }
   ],
   "source": [
    "for inputs, targets in train_ds.take(1):\n",
    "    print(f'inputs[\"encoder_inputs\"].shape: {inputs[\"encoder_inputs\"].shape}')\n",
    "    print(f'inputs[\"decoder_inputs\"].shape: {inputs[\"decoder_inputs\"].shape}')\n",
    "    print(f\"targets.shape: {targets.shape}\")"
   ]
  },
  {
   "cell_type": "code",
   "execution_count": 109,
   "metadata": {},
   "outputs": [
    {
     "name": "stdout",
     "output_type": "stream",
     "text": [
      "[\"Il est venu dans l'espoir de te voir.\", \"Ils m'ont demandé ce que je ferais à l'avenir.\", 'Peut-on prendre des photos dans ce bâtiment ?', 'Je ne suis pas sûr. Ça dépend.', \"Si j'avais des ailes, je volerais vers toi.\"]\n",
      "['[start] Ele veio na esperança de te ver. [end]', '[start] Eles me perguntaram o que farei no futuro. [end]', '[start] Podemos tirar fotos neste prédio? [end]', '[start] Não tenho certeza. Depende. [end]', '[start] Se eu tivesse asas, voaria até você. [end]']\n"
     ]
    }
   ],
   "source": [
    "print(train_french_texts[:5])\n",
    "print(train_portuguese_texts[:5])"
   ]
  },
  {
   "cell_type": "code",
   "execution_count": 110,
   "metadata": {},
   "outputs": [],
   "source": [
    "# Supondo que a classe de atenção Bahdanau já esteja definida corretamente:\n",
    "class BahdanauAttention(layers.Layer):\n",
    "    def __init__(self, units, verbose=0):\n",
    "        super(BahdanauAttention, self).__init__()\n",
    "        self.W1 = layers.Dense(units)\n",
    "        self.W2 = layers.Dense(units)\n",
    "        self.V = layers.Dense(1)\n",
    "        self.verbose = verbose\n",
    "\n",
    "    def call(self, query, values):\n",
    "        # query: (batch_size, hidden_size)\n",
    "        # values: (batch_size, time_steps, hidden_size)\n",
    "        query_with_time_axis = tf.expand_dims(query, 1)  # (batch_size, 1, hidden_size)\n",
    "        score = self.V(tf.nn.tanh(self.W1(query_with_time_axis) + self.W2(values)))  # (batch_size, time_steps, 1)\n",
    "        attention_weights = tf.nn.softmax(score, axis=1)  # (batch_size, time_steps, 1)\n",
    "        context_vector = attention_weights * values  # (batch_size, time_steps, hidden_size)\n",
    "        context_vector = tf.reduce_sum(context_vector, axis=1)  # (batch_size, hidden_size)\n",
    "        return context_vector, attention_weights\n",
    "\n",
    "# Camada customizada para aplicar a atenção para cada timestep do decoder\n",
    "class TimeDistributedAttention(layers.Layer):\n",
    "    def __init__(self, attention_layer, **kwargs):\n",
    "        super(TimeDistributedAttention, self).__init__(**kwargs)\n",
    "        self.attention_layer = attention_layer\n",
    "\n",
    "    def call(self, inputs):\n",
    "        # inputs é uma lista [decoder_outputs, encoder_outputs]\n",
    "        # decoder_outputs: (batch_size, dec_timesteps, latentSpaceDimension)\n",
    "        # encoder_outputs: (batch_size, enc_timesteps, latentSpaceDimension)\n",
    "        decoder_outputs, encoder_outputs = inputs\n",
    "\n",
    "        # Transpomos para que o eixo do tempo fique como primeiro eixo\n",
    "        decoder_outputs_transposed = tf.transpose(decoder_outputs, perm=[1, 0, 2])  # (dec_timesteps, batch_size, latentSpaceDimension)\n",
    "\n",
    "        # Para cada timestep do decoder, calcular o vetor de contexto usando o respectivo vetor (como query)\n",
    "        def apply_attention(decoder_timestep):\n",
    "            # decoder_timestep: (batch_size, latentSpaceDimension)\n",
    "            # Usamos esse vetor como query para calcular a atenção em relação a todos os encoder_outputs\n",
    "            context, _ = self.attention_layer(decoder_timestep, encoder_outputs)\n",
    "            return context  # (batch_size, latentSpaceDimension)\n",
    "\n",
    "        # Usa tf.map_fn para iterar sobre os timesteps\n",
    "        context_sequence_transposed = tf.map_fn(\n",
    "            apply_attention,\n",
    "            decoder_outputs_transposed,\n",
    "            fn_output_signature=tf.float32\n",
    "        )\n",
    "        # Transpomos de volta para ter (batch_size, dec_timesteps, latentSpaceDimension)\n",
    "        context_sequence = tf.transpose(context_sequence_transposed, perm=[1, 0, 2])\n",
    "        return context_sequence\n"
   ]
  },
  {
   "cell_type": "code",
   "execution_count": 111,
   "metadata": {},
   "outputs": [],
   "source": [
    "latentSpaceDimension = 32"
   ]
  },
  {
   "cell_type": "code",
   "execution_count": 112,
   "metadata": {},
   "outputs": [],
   "source": [
    "import tensorflow as tf\n",
    "from tensorflow.keras import layers, Model, Input\n",
    "\n",
    "# Parameters\n",
    "sequence_length = 20  # Maximum number of tokens per sequence\n",
    "vocab_size = 15000    # Total number of tokens in your vocabulary\n",
    "embed_dim = 128       # Dimension of each token embedding\n",
    "\n",
    "class PositionalEmbedding(layers.Layer):\n",
    "    def __init__(self, sequence_length, vocab_size, embed_dim, **kwargs):\n",
    "        super().__init__(**kwargs)\n",
    "        self.token_embeddings = layers.Embedding(input_dim=vocab_size, output_dim=embed_dim)\n",
    "        self.position_embeddings = layers.Embedding(input_dim=sequence_length, output_dim=embed_dim)\n",
    "        self.sequence_length = sequence_length\n",
    "        self.vocab_size = vocab_size\n",
    "        self.embed_dim = embed_dim\n",
    "\n",
    "    def call(self, inputs):\n",
    "        # Get token embeddings: shape (batch_size, sequence_length, embed_dim)\n",
    "        embedded_tokens = self.token_embeddings(inputs)\n",
    "        # Create a constant tensor for positions: shape (sequence_length,)\n",
    "        positions = tf.range(start=0, limit=self.sequence_length, delta=1)\n",
    "        # Get positional embeddings: shape (sequence_length, embed_dim)\n",
    "        embedded_positions = self.position_embeddings(positions)\n",
    "        # Expand dims to (1, sequence_length, embed_dim) so that it broadcasts over the batch\n",
    "        embedded_positions = tf.expand_dims(embedded_positions, axis=0)\n",
    "        # Return the sum of token and positional embeddings\n",
    "        return embedded_tokens + embedded_positions\n",
    "\n",
    "\n",
    "    def get_config(self):\n",
    "        config = super().get_config()\n",
    "        config.update({\n",
    "            \"sequence_length\": self.sequence_length,\n",
    "            \"vocab_size\": self.vocab_size,\n",
    "            \"embed_dim\": self.embed_dim,\n",
    "        })\n",
    "        return config\n"
   ]
  },
  {
   "cell_type": "code",
   "execution_count": 113,
   "metadata": {},
   "outputs": [],
   "source": [
    "class AttentionLSTMCell(layers.Layer):\n",
    "    def __init__(self, units, attention_layer, dropout_rate=0.3, **kwargs):\n",
    "        super(AttentionLSTMCell, self).__init__(**kwargs)\n",
    "        self.units = units\n",
    "        self.attention_layer = attention_layer\n",
    "        self.dropout_rate = dropout_rate\n",
    "        self.lstm_cell = layers.LSTMCell(units)\n",
    "    \n",
    "    @property\n",
    "    def state_size(self):\n",
    "        return [self.units, self.units, self.units, tf.TensorShape([None, self.units])]\n",
    "    \n",
    "    @property\n",
    "    def output_size(self):\n",
    "        return self.units + self.units\n",
    "\n",
    "    def call(self, inputs, states):\n",
    "        # inputs: (batch_size, embed_dim)\n",
    "        # states: [hidden, cell, prev_attention, encoder_outputs]\n",
    "        hidden, cell, prev_attention, encoder_outputs = states\n",
    "        \n",
    "        # Concatena o embedding do token atual com o vetor de atenção do timestep anterior\n",
    "        input_combined = tf.concat([inputs, prev_attention], axis=-1)\n",
    "        \n",
    "        # Aplica dropout na entrada combinada\n",
    "        input_combined = tf.nn.dropout(input_combined, rate=self.dropout_rate)\n",
    "        \n",
    "        # Processa pela LSTMCell\n",
    "        output, [new_hidden, new_cell] = self.lstm_cell(input_combined, [hidden, cell])\n",
    "        \n",
    "        # Calcula a atenção usando o novo estado oculto como query\n",
    "        context_vector, attention_weights = self.attention_layer(new_hidden, encoder_outputs)\n",
    "        \n",
    "        # Concatena o novo estado oculto com o vetor de contexto para formar a saída\n",
    "        new_output = tf.concat([new_hidden, context_vector], axis=-1)\n",
    "        \n",
    "        # Atualiza os estados (mantendo encoder_outputs inalterado)\n",
    "        new_state = [new_hidden, new_cell, context_vector, encoder_outputs]\n",
    "        return new_output, new_state"
   ]
  },
  {
   "cell_type": "code",
   "execution_count": 114,
   "metadata": {},
   "outputs": [
    {
     "name": "stderr",
     "output_type": "stream",
     "text": [
      "/home/bruno/Documents/unb/tema/.venv/lib/python3.10/site-packages/keras/src/layers/layer.py:391: UserWarning: `build()` was called on layer 'attention_lstm_cell_2', however the layer does not have a `build()` method implemented and it looks like it has unbuilt state. This will cause the layer to be marked as built, despite not being actually built, which may cause failures down the line. Make sure to implement a proper `build()` method.\n",
      "  warnings.warn(\n"
     ]
    }
   ],
   "source": [
    "# --- Parâmetros e camadas de embedding (supondo que já estejam definidos) ---\n",
    "# sequence_length, vocab_size, embed_dim, latentSpaceDimension\n",
    "\n",
    "# Defina a camada densa para adaptar os outputs do encoder\n",
    "encoder_adapter = layers.Dense(latentSpaceDimension, activation='relu', name='encoder_adapter')\n",
    "\n",
    "# --- Encoder ---\n",
    "encoder_inputs = Input(shape=(None,), dtype=\"int64\", name=\"encoder_inputs\")\n",
    "encoder_embed = PositionalEmbedding(sequence_length, vocab_size, embed_dim)(encoder_inputs)\n",
    "encoder_lstm = layers.LSTM(latentSpaceDimension, return_sequences=True, return_state=True, name='encoder_lstm')\n",
    "encoder_outputs, state_h, state_c = encoder_lstm(encoder_embed)\n",
    "encoder_states = [state_h, state_c]  # estados finais do encoder\n",
    "\n",
    "# Adapte os outputs do encoder\n",
    "adapted_encoder_outputs = encoder_adapter(encoder_outputs)\n",
    "\n",
    "# **Defina a camada de atenção**\n",
    "attention_layer = BahdanauAttention(latentSpaceDimension, verbose=0)\n",
    "\n",
    "# --- Decoder ---\n",
    "decoder_inputs = Input(shape=(None,), dtype=\"int64\", name=\"decoder_inputs\")\n",
    "decoder_embeddings = layers.Embedding(input_dim=vocab_size, output_dim=embed_dim)(decoder_inputs)\n",
    "\n",
    "# Cria o cell customizado com input feeding (utilizando o attention_layer definido acima)\n",
    "attention_cell = AttentionLSTMCell(latentSpaceDimension, attention_layer)\n",
    "decoder_rnn = layers.RNN(attention_cell, return_sequences=True, return_state=True)\n",
    "\n",
    "# Inicializa o vetor de atenção com zeros\n",
    "def get_initial_attention(x):\n",
    "    batch_size = tf.shape(x)[0]\n",
    "    return tf.zeros((batch_size, latentSpaceDimension), dtype=tf.float32)\n",
    "\n",
    "initial_attention = layers.Lambda(get_initial_attention)(state_h)\n",
    "\n",
    "# O estado inicial agora é composto por: [hidden, cell, prev_attention, adapted_encoder_outputs]\n",
    "initial_state = encoder_states + [initial_attention, adapted_encoder_outputs]\n",
    "\n",
    "# Executa a RNN do decoder\n",
    "decoder_rnn_outputs = decoder_rnn(decoder_embeddings, initial_state=initial_state)\n",
    "decoder_outputs = decoder_rnn_outputs[0]\n",
    "\n",
    "# Camada densa final para gerar as predições\n",
    "decoder_dense = layers.Dense(vocab_size, activation='softmax', name='decoder_dense')\n",
    "final_outputs = decoder_dense(decoder_outputs)"
   ]
  },
  {
   "cell_type": "code",
   "execution_count": 115,
   "metadata": {},
   "outputs": [
    {
     "data": {
      "text/html": [
       "<pre style=\"white-space:pre;overflow-x:auto;line-height:normal;font-family:Menlo,'DejaVu Sans Mono',consolas,'Courier New',monospace\"><span style=\"font-weight: bold\">Model: \"seq2seq_input_feeding\"</span>\n",
       "</pre>\n"
      ],
      "text/plain": [
       "\u001b[1mModel: \"seq2seq_input_feeding\"\u001b[0m\n"
      ]
     },
     "metadata": {},
     "output_type": "display_data"
    },
    {
     "data": {
      "text/html": [
       "<pre style=\"white-space:pre;overflow-x:auto;line-height:normal;font-family:Menlo,'DejaVu Sans Mono',consolas,'Courier New',monospace\">┏━━━━━━━━━━━━━━━━━━━━━┳━━━━━━━━━━━━━━━━━━━┳━━━━━━━━━━━━┳━━━━━━━━━━━━━━━━━━━┓\n",
       "┃<span style=\"font-weight: bold\"> Layer (type)        </span>┃<span style=\"font-weight: bold\"> Output Shape      </span>┃<span style=\"font-weight: bold\">    Param # </span>┃<span style=\"font-weight: bold\"> Connected to      </span>┃\n",
       "┡━━━━━━━━━━━━━━━━━━━━━╇━━━━━━━━━━━━━━━━━━━╇━━━━━━━━━━━━╇━━━━━━━━━━━━━━━━━━━┩\n",
       "│ encoder_inputs      │ (<span style=\"color: #00d7ff; text-decoration-color: #00d7ff\">None</span>, <span style=\"color: #00d7ff; text-decoration-color: #00d7ff\">None</span>)      │          <span style=\"color: #00af00; text-decoration-color: #00af00\">0</span> │ -                 │\n",
       "│ (<span style=\"color: #0087ff; text-decoration-color: #0087ff\">InputLayer</span>)        │                   │            │                   │\n",
       "├─────────────────────┼───────────────────┼────────────┼───────────────────┤\n",
       "│ positional_embeddi… │ (<span style=\"color: #00d7ff; text-decoration-color: #00d7ff\">None</span>, <span style=\"color: #00af00; text-decoration-color: #00af00\">20</span>, <span style=\"color: #00af00; text-decoration-color: #00af00\">128</span>)   │  <span style=\"color: #00af00; text-decoration-color: #00af00\">1,922,560</span> │ encoder_inputs[<span style=\"color: #00af00; text-decoration-color: #00af00\">0</span>… │\n",
       "│ (<span style=\"color: #0087ff; text-decoration-color: #0087ff\">PositionalEmbeddi…</span> │                   │            │                   │\n",
       "├─────────────────────┼───────────────────┼────────────┼───────────────────┤\n",
       "│ decoder_inputs      │ (<span style=\"color: #00d7ff; text-decoration-color: #00d7ff\">None</span>, <span style=\"color: #00d7ff; text-decoration-color: #00d7ff\">None</span>)      │          <span style=\"color: #00af00; text-decoration-color: #00af00\">0</span> │ -                 │\n",
       "│ (<span style=\"color: #0087ff; text-decoration-color: #0087ff\">InputLayer</span>)        │                   │            │                   │\n",
       "├─────────────────────┼───────────────────┼────────────┼───────────────────┤\n",
       "│ encoder_lstm (<span style=\"color: #0087ff; text-decoration-color: #0087ff\">LSTM</span>) │ [(<span style=\"color: #00d7ff; text-decoration-color: #00d7ff\">None</span>, <span style=\"color: #00af00; text-decoration-color: #00af00\">20</span>, <span style=\"color: #00af00; text-decoration-color: #00af00\">32</span>),  │     <span style=\"color: #00af00; text-decoration-color: #00af00\">20,608</span> │ positional_embed… │\n",
       "│                     │ (<span style=\"color: #00d7ff; text-decoration-color: #00d7ff\">None</span>, <span style=\"color: #00af00; text-decoration-color: #00af00\">32</span>),       │            │                   │\n",
       "│                     │ (<span style=\"color: #00d7ff; text-decoration-color: #00d7ff\">None</span>, <span style=\"color: #00af00; text-decoration-color: #00af00\">32</span>)]       │            │                   │\n",
       "├─────────────────────┼───────────────────┼────────────┼───────────────────┤\n",
       "│ embedding_27        │ (<span style=\"color: #00d7ff; text-decoration-color: #00d7ff\">None</span>, <span style=\"color: #00d7ff; text-decoration-color: #00d7ff\">None</span>, <span style=\"color: #00af00; text-decoration-color: #00af00\">128</span>) │  <span style=\"color: #00af00; text-decoration-color: #00af00\">1,920,000</span> │ decoder_inputs[<span style=\"color: #00af00; text-decoration-color: #00af00\">0</span>… │\n",
       "│ (<span style=\"color: #0087ff; text-decoration-color: #0087ff\">Embedding</span>)         │                   │            │                   │\n",
       "├─────────────────────┼───────────────────┼────────────┼───────────────────┤\n",
       "│ lambda_2 (<span style=\"color: #0087ff; text-decoration-color: #0087ff\">Lambda</span>)   │ (<span style=\"color: #00d7ff; text-decoration-color: #00d7ff\">None</span>, <span style=\"color: #00af00; text-decoration-color: #00af00\">32</span>)        │          <span style=\"color: #00af00; text-decoration-color: #00af00\">0</span> │ encoder_lstm[<span style=\"color: #00af00; text-decoration-color: #00af00\">0</span>][<span style=\"color: #00af00; text-decoration-color: #00af00\">…</span> │\n",
       "├─────────────────────┼───────────────────┼────────────┼───────────────────┤\n",
       "│ encoder_adapter     │ (<span style=\"color: #00d7ff; text-decoration-color: #00d7ff\">None</span>, <span style=\"color: #00af00; text-decoration-color: #00af00\">20</span>, <span style=\"color: #00af00; text-decoration-color: #00af00\">32</span>)    │      <span style=\"color: #00af00; text-decoration-color: #00af00\">1,056</span> │ encoder_lstm[<span style=\"color: #00af00; text-decoration-color: #00af00\">0</span>][<span style=\"color: #00af00; text-decoration-color: #00af00\">…</span> │\n",
       "│ (<span style=\"color: #0087ff; text-decoration-color: #0087ff\">Dense</span>)             │                   │            │                   │\n",
       "├─────────────────────┼───────────────────┼────────────┼───────────────────┤\n",
       "│ rnn_2 (<span style=\"color: #0087ff; text-decoration-color: #0087ff\">RNN</span>)         │ [(<span style=\"color: #00d7ff; text-decoration-color: #00d7ff\">None</span>, <span style=\"color: #00d7ff; text-decoration-color: #00d7ff\">None</span>,     │          <span style=\"color: #00af00; text-decoration-color: #00af00\">0</span> │ embedding_27[<span style=\"color: #00af00; text-decoration-color: #00af00\">0</span>][<span style=\"color: #00af00; text-decoration-color: #00af00\">…</span> │\n",
       "│                     │ <span style=\"color: #00af00; text-decoration-color: #00af00\">64</span>), (<span style=\"color: #00d7ff; text-decoration-color: #00d7ff\">None</span>, <span style=\"color: #00af00; text-decoration-color: #00af00\">32</span>),  │            │ encoder_lstm[<span style=\"color: #00af00; text-decoration-color: #00af00\">0</span>][<span style=\"color: #00af00; text-decoration-color: #00af00\">…</span> │\n",
       "│                     │ (<span style=\"color: #00d7ff; text-decoration-color: #00d7ff\">None</span>, <span style=\"color: #00af00; text-decoration-color: #00af00\">32</span>),       │            │ encoder_lstm[<span style=\"color: #00af00; text-decoration-color: #00af00\">0</span>][<span style=\"color: #00af00; text-decoration-color: #00af00\">…</span> │\n",
       "│                     │ (<span style=\"color: #00d7ff; text-decoration-color: #00d7ff\">None</span>, <span style=\"color: #00af00; text-decoration-color: #00af00\">32</span>)]       │            │ lambda_2[<span style=\"color: #00af00; text-decoration-color: #00af00\">0</span>][<span style=\"color: #00af00; text-decoration-color: #00af00\">0</span>],   │\n",
       "│                     │                   │            │ encoder_adapter[<span style=\"color: #00af00; text-decoration-color: #00af00\">…</span> │\n",
       "├─────────────────────┼───────────────────┼────────────┼───────────────────┤\n",
       "│ decoder_dense       │ (<span style=\"color: #00d7ff; text-decoration-color: #00d7ff\">None</span>, <span style=\"color: #00d7ff; text-decoration-color: #00d7ff\">None</span>,      │    <span style=\"color: #00af00; text-decoration-color: #00af00\">975,000</span> │ rnn_2[<span style=\"color: #00af00; text-decoration-color: #00af00\">0</span>][<span style=\"color: #00af00; text-decoration-color: #00af00\">0</span>]       │\n",
       "│ (<span style=\"color: #0087ff; text-decoration-color: #0087ff\">Dense</span>)             │ <span style=\"color: #00af00; text-decoration-color: #00af00\">15000</span>)            │            │                   │\n",
       "└─────────────────────┴───────────────────┴────────────┴───────────────────┘\n",
       "</pre>\n"
      ],
      "text/plain": [
       "┏━━━━━━━━━━━━━━━━━━━━━┳━━━━━━━━━━━━━━━━━━━┳━━━━━━━━━━━━┳━━━━━━━━━━━━━━━━━━━┓\n",
       "┃\u001b[1m \u001b[0m\u001b[1mLayer (type)       \u001b[0m\u001b[1m \u001b[0m┃\u001b[1m \u001b[0m\u001b[1mOutput Shape     \u001b[0m\u001b[1m \u001b[0m┃\u001b[1m \u001b[0m\u001b[1m   Param #\u001b[0m\u001b[1m \u001b[0m┃\u001b[1m \u001b[0m\u001b[1mConnected to     \u001b[0m\u001b[1m \u001b[0m┃\n",
       "┡━━━━━━━━━━━━━━━━━━━━━╇━━━━━━━━━━━━━━━━━━━╇━━━━━━━━━━━━╇━━━━━━━━━━━━━━━━━━━┩\n",
       "│ encoder_inputs      │ (\u001b[38;5;45mNone\u001b[0m, \u001b[38;5;45mNone\u001b[0m)      │          \u001b[38;5;34m0\u001b[0m │ -                 │\n",
       "│ (\u001b[38;5;33mInputLayer\u001b[0m)        │                   │            │                   │\n",
       "├─────────────────────┼───────────────────┼────────────┼───────────────────┤\n",
       "│ positional_embeddi… │ (\u001b[38;5;45mNone\u001b[0m, \u001b[38;5;34m20\u001b[0m, \u001b[38;5;34m128\u001b[0m)   │  \u001b[38;5;34m1,922,560\u001b[0m │ encoder_inputs[\u001b[38;5;34m0\u001b[0m… │\n",
       "│ (\u001b[38;5;33mPositionalEmbeddi…\u001b[0m │                   │            │                   │\n",
       "├─────────────────────┼───────────────────┼────────────┼───────────────────┤\n",
       "│ decoder_inputs      │ (\u001b[38;5;45mNone\u001b[0m, \u001b[38;5;45mNone\u001b[0m)      │          \u001b[38;5;34m0\u001b[0m │ -                 │\n",
       "│ (\u001b[38;5;33mInputLayer\u001b[0m)        │                   │            │                   │\n",
       "├─────────────────────┼───────────────────┼────────────┼───────────────────┤\n",
       "│ encoder_lstm (\u001b[38;5;33mLSTM\u001b[0m) │ [(\u001b[38;5;45mNone\u001b[0m, \u001b[38;5;34m20\u001b[0m, \u001b[38;5;34m32\u001b[0m),  │     \u001b[38;5;34m20,608\u001b[0m │ positional_embed… │\n",
       "│                     │ (\u001b[38;5;45mNone\u001b[0m, \u001b[38;5;34m32\u001b[0m),       │            │                   │\n",
       "│                     │ (\u001b[38;5;45mNone\u001b[0m, \u001b[38;5;34m32\u001b[0m)]       │            │                   │\n",
       "├─────────────────────┼───────────────────┼────────────┼───────────────────┤\n",
       "│ embedding_27        │ (\u001b[38;5;45mNone\u001b[0m, \u001b[38;5;45mNone\u001b[0m, \u001b[38;5;34m128\u001b[0m) │  \u001b[38;5;34m1,920,000\u001b[0m │ decoder_inputs[\u001b[38;5;34m0\u001b[0m… │\n",
       "│ (\u001b[38;5;33mEmbedding\u001b[0m)         │                   │            │                   │\n",
       "├─────────────────────┼───────────────────┼────────────┼───────────────────┤\n",
       "│ lambda_2 (\u001b[38;5;33mLambda\u001b[0m)   │ (\u001b[38;5;45mNone\u001b[0m, \u001b[38;5;34m32\u001b[0m)        │          \u001b[38;5;34m0\u001b[0m │ encoder_lstm[\u001b[38;5;34m0\u001b[0m][\u001b[38;5;34m…\u001b[0m │\n",
       "├─────────────────────┼───────────────────┼────────────┼───────────────────┤\n",
       "│ encoder_adapter     │ (\u001b[38;5;45mNone\u001b[0m, \u001b[38;5;34m20\u001b[0m, \u001b[38;5;34m32\u001b[0m)    │      \u001b[38;5;34m1,056\u001b[0m │ encoder_lstm[\u001b[38;5;34m0\u001b[0m][\u001b[38;5;34m…\u001b[0m │\n",
       "│ (\u001b[38;5;33mDense\u001b[0m)             │                   │            │                   │\n",
       "├─────────────────────┼───────────────────┼────────────┼───────────────────┤\n",
       "│ rnn_2 (\u001b[38;5;33mRNN\u001b[0m)         │ [(\u001b[38;5;45mNone\u001b[0m, \u001b[38;5;45mNone\u001b[0m,     │          \u001b[38;5;34m0\u001b[0m │ embedding_27[\u001b[38;5;34m0\u001b[0m][\u001b[38;5;34m…\u001b[0m │\n",
       "│                     │ \u001b[38;5;34m64\u001b[0m), (\u001b[38;5;45mNone\u001b[0m, \u001b[38;5;34m32\u001b[0m),  │            │ encoder_lstm[\u001b[38;5;34m0\u001b[0m][\u001b[38;5;34m…\u001b[0m │\n",
       "│                     │ (\u001b[38;5;45mNone\u001b[0m, \u001b[38;5;34m32\u001b[0m),       │            │ encoder_lstm[\u001b[38;5;34m0\u001b[0m][\u001b[38;5;34m…\u001b[0m │\n",
       "│                     │ (\u001b[38;5;45mNone\u001b[0m, \u001b[38;5;34m32\u001b[0m)]       │            │ lambda_2[\u001b[38;5;34m0\u001b[0m][\u001b[38;5;34m0\u001b[0m],   │\n",
       "│                     │                   │            │ encoder_adapter[\u001b[38;5;34m…\u001b[0m │\n",
       "├─────────────────────┼───────────────────┼────────────┼───────────────────┤\n",
       "│ decoder_dense       │ (\u001b[38;5;45mNone\u001b[0m, \u001b[38;5;45mNone\u001b[0m,      │    \u001b[38;5;34m975,000\u001b[0m │ rnn_2[\u001b[38;5;34m0\u001b[0m][\u001b[38;5;34m0\u001b[0m]       │\n",
       "│ (\u001b[38;5;33mDense\u001b[0m)             │ \u001b[38;5;34m15000\u001b[0m)            │            │                   │\n",
       "└─────────────────────┴───────────────────┴────────────┴───────────────────┘\n"
      ]
     },
     "metadata": {},
     "output_type": "display_data"
    },
    {
     "data": {
      "text/html": [
       "<pre style=\"white-space:pre;overflow-x:auto;line-height:normal;font-family:Menlo,'DejaVu Sans Mono',consolas,'Courier New',monospace\"><span style=\"font-weight: bold\"> Total params: </span><span style=\"color: #00af00; text-decoration-color: #00af00\">4,839,224</span> (18.46 MB)\n",
       "</pre>\n"
      ],
      "text/plain": [
       "\u001b[1m Total params: \u001b[0m\u001b[38;5;34m4,839,224\u001b[0m (18.46 MB)\n"
      ]
     },
     "metadata": {},
     "output_type": "display_data"
    },
    {
     "data": {
      "text/html": [
       "<pre style=\"white-space:pre;overflow-x:auto;line-height:normal;font-family:Menlo,'DejaVu Sans Mono',consolas,'Courier New',monospace\"><span style=\"font-weight: bold\"> Trainable params: </span><span style=\"color: #00af00; text-decoration-color: #00af00\">4,839,224</span> (18.46 MB)\n",
       "</pre>\n"
      ],
      "text/plain": [
       "\u001b[1m Trainable params: \u001b[0m\u001b[38;5;34m4,839,224\u001b[0m (18.46 MB)\n"
      ]
     },
     "metadata": {},
     "output_type": "display_data"
    },
    {
     "data": {
      "text/html": [
       "<pre style=\"white-space:pre;overflow-x:auto;line-height:normal;font-family:Menlo,'DejaVu Sans Mono',consolas,'Courier New',monospace\"><span style=\"font-weight: bold\"> Non-trainable params: </span><span style=\"color: #00af00; text-decoration-color: #00af00\">0</span> (0.00 B)\n",
       "</pre>\n"
      ],
      "text/plain": [
       "\u001b[1m Non-trainable params: \u001b[0m\u001b[38;5;34m0\u001b[0m (0.00 B)\n"
      ]
     },
     "metadata": {},
     "output_type": "display_data"
    }
   ],
   "source": [
    "# Camada densa final para gerar as predições\n",
    "decoder_dense = layers.Dense(vocab_size, activation='softmax', name='decoder_dense')\n",
    "final_outputs = decoder_dense(decoder_outputs)\n",
    "\n",
    "# --- Modelo Final ---\n",
    "model = Model([encoder_inputs, decoder_inputs], final_outputs, name='seq2seq_input_feeding')\n",
    "model.compile(optimizer='adam', loss='sparse_categorical_crossentropy', metrics=['accuracy'])\n",
    "model.summary()"
   ]
  },
  {
   "cell_type": "code",
   "execution_count": 116,
   "metadata": {},
   "outputs": [
    {
     "name": "stdout",
     "output_type": "stream",
     "text": [
      "Epoch 1/30\n",
      "\u001b[1m362/362\u001b[0m \u001b[32m━━━━━━━━━━━━━━━━━━━━\u001b[0m\u001b[37m\u001b[0m \u001b[1m61s\u001b[0m 160ms/step - accuracy: 0.6451 - loss: 4.5659 - val_accuracy: 0.7057 - val_loss: 2.1115\n",
      "Epoch 2/30\n",
      "\u001b[1m362/362\u001b[0m \u001b[32m━━━━━━━━━━━━━━━━━━━━\u001b[0m\u001b[37m\u001b[0m \u001b[1m58s\u001b[0m 159ms/step - accuracy: 0.7070 - loss: 2.0548 - val_accuracy: 0.7167 - val_loss: 2.0031\n",
      "Epoch 3/30\n",
      "\u001b[1m362/362\u001b[0m \u001b[32m━━━━━━━━━━━━━━━━━━━━\u001b[0m\u001b[37m\u001b[0m \u001b[1m57s\u001b[0m 159ms/step - accuracy: 0.7208 - loss: 1.9006 - val_accuracy: 0.7302 - val_loss: 1.9038\n",
      "Epoch 4/30\n",
      "\u001b[1m362/362\u001b[0m \u001b[32m━━━━━━━━━━━━━━━━━━━━\u001b[0m\u001b[37m\u001b[0m \u001b[1m58s\u001b[0m 160ms/step - accuracy: 0.7324 - loss: 1.7768 - val_accuracy: 0.7375 - val_loss: 1.8368\n",
      "Epoch 5/30\n",
      "\u001b[1m362/362\u001b[0m \u001b[32m━━━━━━━━━━━━━━━━━━━━\u001b[0m\u001b[37m\u001b[0m \u001b[1m58s\u001b[0m 159ms/step - accuracy: 0.7417 - loss: 1.6586 - val_accuracy: 0.7451 - val_loss: 1.7936\n",
      "Epoch 6/30\n",
      "\u001b[1m362/362\u001b[0m \u001b[32m━━━━━━━━━━━━━━━━━━━━\u001b[0m\u001b[37m\u001b[0m \u001b[1m57s\u001b[0m 158ms/step - accuracy: 0.7522 - loss: 1.5508 - val_accuracy: 0.7544 - val_loss: 1.7084\n",
      "Epoch 7/30\n",
      "\u001b[1m362/362\u001b[0m \u001b[32m━━━━━━━━━━━━━━━━━━━━\u001b[0m\u001b[37m\u001b[0m \u001b[1m57s\u001b[0m 156ms/step - accuracy: 0.7632 - loss: 1.4519 - val_accuracy: 0.7649 - val_loss: 1.6480\n",
      "Epoch 8/30\n",
      "\u001b[1m362/362\u001b[0m \u001b[32m━━━━━━━━━━━━━━━━━━━━\u001b[0m\u001b[37m\u001b[0m \u001b[1m62s\u001b[0m 170ms/step - accuracy: 0.7762 - loss: 1.3480 - val_accuracy: 0.7744 - val_loss: 1.6021\n",
      "Epoch 9/30\n",
      "\u001b[1m362/362\u001b[0m \u001b[32m━━━━━━━━━━━━━━━━━━━━\u001b[0m\u001b[37m\u001b[0m \u001b[1m58s\u001b[0m 160ms/step - accuracy: 0.7893 - loss: 1.2395 - val_accuracy: 0.7844 - val_loss: 1.5541\n",
      "Epoch 10/30\n",
      "\u001b[1m362/362\u001b[0m \u001b[32m━━━━━━━━━━━━━━━━━━━━\u001b[0m\u001b[37m\u001b[0m \u001b[1m57s\u001b[0m 157ms/step - accuracy: 0.8018 - loss: 1.1434 - val_accuracy: 0.7892 - val_loss: 1.5281\n",
      "Epoch 11/30\n",
      "\u001b[1m362/362\u001b[0m \u001b[32m━━━━━━━━━━━━━━━━━━━━\u001b[0m\u001b[37m\u001b[0m \u001b[1m58s\u001b[0m 161ms/step - accuracy: 0.8113 - loss: 1.0691 - val_accuracy: 0.7982 - val_loss: 1.5019\n",
      "Epoch 12/30\n",
      "\u001b[1m362/362\u001b[0m \u001b[32m━━━━━━━━━━━━━━━━━━━━\u001b[0m\u001b[37m\u001b[0m \u001b[1m58s\u001b[0m 160ms/step - accuracy: 0.8213 - loss: 0.9908 - val_accuracy: 0.8033 - val_loss: 1.4911\n",
      "Epoch 13/30\n",
      "\u001b[1m362/362\u001b[0m \u001b[32m━━━━━━━━━━━━━━━━━━━━\u001b[0m\u001b[37m\u001b[0m \u001b[1m58s\u001b[0m 159ms/step - accuracy: 0.8307 - loss: 0.9181 - val_accuracy: 0.8079 - val_loss: 1.4861\n",
      "Epoch 14/30\n",
      "\u001b[1m362/362\u001b[0m \u001b[32m━━━━━━━━━━━━━━━━━━━━\u001b[0m\u001b[37m\u001b[0m \u001b[1m57s\u001b[0m 158ms/step - accuracy: 0.8370 - loss: 0.8660 - val_accuracy: 0.8122 - val_loss: 1.4759\n",
      "Epoch 15/30\n",
      "\u001b[1m362/362\u001b[0m \u001b[32m━━━━━━━━━━━━━━━━━━━━\u001b[0m\u001b[37m\u001b[0m \u001b[1m57s\u001b[0m 158ms/step - accuracy: 0.8467 - loss: 0.7991 - val_accuracy: 0.8151 - val_loss: 1.4685\n",
      "Epoch 16/30\n",
      "\u001b[1m362/362\u001b[0m \u001b[32m━━━━━━━━━━━━━━━━━━━━\u001b[0m\u001b[37m\u001b[0m \u001b[1m57s\u001b[0m 158ms/step - accuracy: 0.8520 - loss: 0.7611 - val_accuracy: 0.8189 - val_loss: 1.4688\n",
      "Epoch 17/30\n",
      "\u001b[1m362/362\u001b[0m \u001b[32m━━━━━━━━━━━━━━━━━━━━\u001b[0m\u001b[37m\u001b[0m \u001b[1m58s\u001b[0m 159ms/step - accuracy: 0.8598 - loss: 0.7087 - val_accuracy: 0.8229 - val_loss: 1.4707\n",
      "Epoch 18/30\n",
      "\u001b[1m362/362\u001b[0m \u001b[32m━━━━━━━━━━━━━━━━━━━━\u001b[0m\u001b[37m\u001b[0m \u001b[1m58s\u001b[0m 159ms/step - accuracy: 0.8667 - loss: 0.6662 - val_accuracy: 0.8247 - val_loss: 1.4683\n",
      "Epoch 19/30\n",
      "\u001b[1m362/362\u001b[0m \u001b[32m━━━━━━━━━━━━━━━━━━━━\u001b[0m\u001b[37m\u001b[0m \u001b[1m57s\u001b[0m 159ms/step - accuracy: 0.8731 - loss: 0.6289 - val_accuracy: 0.8271 - val_loss: 1.4853\n",
      "Epoch 20/30\n",
      "\u001b[1m362/362\u001b[0m \u001b[32m━━━━━━━━━━━━━━━━━━━━\u001b[0m\u001b[37m\u001b[0m \u001b[1m59s\u001b[0m 163ms/step - accuracy: 0.8802 - loss: 0.5871 - val_accuracy: 0.8283 - val_loss: 1.4940\n",
      "Epoch 21/30\n",
      "\u001b[1m362/362\u001b[0m \u001b[32m━━━━━━━━━━━━━━━━━━━━\u001b[0m\u001b[37m\u001b[0m \u001b[1m58s\u001b[0m 160ms/step - accuracy: 0.8853 - loss: 0.5601 - val_accuracy: 0.8301 - val_loss: 1.4882\n",
      "Epoch 22/30\n",
      "\u001b[1m362/362\u001b[0m \u001b[32m━━━━━━━━━━━━━━━━━━━━\u001b[0m\u001b[37m\u001b[0m \u001b[1m58s\u001b[0m 159ms/step - accuracy: 0.8923 - loss: 0.5261 - val_accuracy: 0.8320 - val_loss: 1.4946\n",
      "Epoch 23/30\n",
      "\u001b[1m362/362\u001b[0m \u001b[32m━━━━━━━━━━━━━━━━━━━━\u001b[0m\u001b[37m\u001b[0m \u001b[1m57s\u001b[0m 159ms/step - accuracy: 0.8969 - loss: 0.4976 - val_accuracy: 0.8330 - val_loss: 1.5060\n",
      "Epoch 24/30\n",
      "\u001b[1m362/362\u001b[0m \u001b[32m━━━━━━━━━━━━━━━━━━━━\u001b[0m\u001b[37m\u001b[0m \u001b[1m57s\u001b[0m 159ms/step - accuracy: 0.9023 - loss: 0.4682 - val_accuracy: 0.8342 - val_loss: 1.5195\n",
      "Epoch 25/30\n",
      "\u001b[1m362/362\u001b[0m \u001b[32m━━━━━━━━━━━━━━━━━━━━\u001b[0m\u001b[37m\u001b[0m \u001b[1m57s\u001b[0m 158ms/step - accuracy: 0.9055 - loss: 0.4492 - val_accuracy: 0.8358 - val_loss: 1.5153\n",
      "Epoch 26/30\n",
      "\u001b[1m362/362\u001b[0m \u001b[32m━━━━━━━━━━━━━━━━━━━━\u001b[0m\u001b[37m\u001b[0m \u001b[1m57s\u001b[0m 159ms/step - accuracy: 0.9090 - loss: 0.4290 - val_accuracy: 0.8351 - val_loss: 1.5526\n",
      "Epoch 27/30\n",
      "\u001b[1m362/362\u001b[0m \u001b[32m━━━━━━━━━━━━━━━━━━━━\u001b[0m\u001b[37m\u001b[0m \u001b[1m57s\u001b[0m 158ms/step - accuracy: 0.9109 - loss: 0.4176 - val_accuracy: 0.8363 - val_loss: 1.5370\n",
      "Epoch 28/30\n",
      "\u001b[1m362/362\u001b[0m \u001b[32m━━━━━━━━━━━━━━━━━━━━\u001b[0m\u001b[37m\u001b[0m \u001b[1m57s\u001b[0m 158ms/step - accuracy: 0.9136 - loss: 0.4000 - val_accuracy: 0.8365 - val_loss: 1.5414\n",
      "Epoch 29/30\n",
      "\u001b[1m362/362\u001b[0m \u001b[32m━━━━━━━━━━━━━━━━━━━━\u001b[0m\u001b[37m\u001b[0m \u001b[1m57s\u001b[0m 158ms/step - accuracy: 0.9168 - loss: 0.3817 - val_accuracy: 0.8365 - val_loss: 1.5651\n",
      "Epoch 30/30\n",
      "\u001b[1m362/362\u001b[0m \u001b[32m━━━━━━━━━━━━━━━━━━━━\u001b[0m\u001b[37m\u001b[0m \u001b[1m57s\u001b[0m 158ms/step - accuracy: 0.9198 - loss: 0.3652 - val_accuracy: 0.8352 - val_loss: 1.5715\n",
      "\u001b[1m155/155\u001b[0m \u001b[32m━━━━━━━━━━━━━━━━━━━━\u001b[0m\u001b[37m\u001b[0m \u001b[1m7s\u001b[0m 44ms/step - accuracy: 0.8386 - loss: 1.5089\n",
      "Test loss: 1.5697630643844604\n",
      "Test accuracy: 0.8354158997535706\n"
     ]
    }
   ],
   "source": [
    "import numpy as np\n",
    "\n",
    "# =============================================================================\n",
    "# Preparação dos arrays para treinamento e teste a partir dos textos brutos\n",
    "# =============================================================================\n",
    "\n",
    "# --- Dados de Treinamento ---\n",
    "# Converte os textos de treinamento para arrays utilizando as camadas de vetorização\n",
    "encoder_input_data = french_vectorization(np.array(train_french_texts)).numpy()\n",
    "portuguese_tokenized = portuguese_vectorization(np.array(train_portuguese_texts)).numpy()\n",
    "\n",
    "# Para o decoder, usamos:\n",
    "# - decoder_input_data: todas as posições, exceto o último token (entrada para o decoder)\n",
    "# - decoder_target_data: todas as posições, exceto o primeiro token (alvo que o modelo deve prever)\n",
    "decoder_input_data = portuguese_tokenized[:, :-1]\n",
    "decoder_target_data = portuguese_tokenized[:, 1:]\n",
    "\n",
    "# --- Dados de Teste ---\n",
    "# Extraímos os textos de teste e convertemos utilizando as camadas de vetorização\n",
    "test_french_texts = [pair[0] for pair in test_pairs]\n",
    "test_portuguese_texts = [pair[1] for pair in test_pairs]\n",
    "\n",
    "encoder_input_test = french_vectorization(np.array(test_french_texts)).numpy()\n",
    "portuguese_tokenized_test = portuguese_vectorization(np.array(test_portuguese_texts)).numpy()\n",
    "\n",
    "decoder_input_test = portuguese_tokenized_test[:, :-1]\n",
    "decoder_target_test = portuguese_tokenized_test[:, 1:]\n",
    "\n",
    "# =============================================================================\n",
    "# Treinamento e Avaliação do Modelo com a Nova Arquitetura (com atenção)\n",
    "# =============================================================================\n",
    "\n",
    "# Treina o modelo utilizando os arrays preparados.\n",
    "history = model.fit(\n",
    "    x=[encoder_input_data, decoder_input_data],\n",
    "    y=decoder_target_data,\n",
    "    batch_size=64,\n",
    "    epochs=30,\n",
    "    validation_data=([encoder_input_test, decoder_input_test], decoder_target_test)\n",
    ")\n",
    "\n",
    "# Avalia o modelo no conjunto de teste (caso haja um conjunto separado de validação)\n",
    "test_loss, test_accuracy = model.evaluate(\n",
    "    x=[encoder_input_test, decoder_input_test],\n",
    "    y=decoder_target_test\n",
    ")\n",
    "print(\"Test loss:\", test_loss)\n",
    "print(\"Test accuracy:\", test_accuracy)\n"
   ]
  },
  {
   "cell_type": "code",
   "execution_count": 117,
   "metadata": {},
   "outputs": [
    {
     "data": {
      "image/png": "[encoded data removed]",
      "text/plain": [
       "<Figure size 640x480 with 1 Axes>"
      ]
     },
     "metadata": {},
     "output_type": "display_data"
    },
    {
     "data": {
      "image/png": "[encoded data removed]",
      "text/plain": [
       "<Figure size 640x480 with 1 Axes>"
      ]
     },
     "metadata": {},
     "output_type": "display_data"
    }
   ],
   "source": [
    "import matplotlib.pyplot as plt\n",
    "# summarize history for accuracy\n",
    "plt.plot(history.history['accuracy'])\n",
    "plt.plot(history.history['val_accuracy'])\n",
    "plt.title(model.name+' accuracy')\n",
    "plt.ylabel('accuracy')\n",
    "plt.xlabel('epoch')\n",
    "plt.legend(['train', 'val'], loc='upper left')\n",
    "plt.show()\n",
    "# summarize history for loss\n",
    "plt.plot(history.history['loss'])\n",
    "plt.plot(history.history['val_loss'])\n",
    "plt.title(model.name+' loss')\n",
    "plt.ylabel('loss')\n",
    "plt.xlabel('epoch')\n",
    "plt.legend(['train', 'val'], loc='upper left')\n",
    "plt.show()"
   ]
  }
 ],
 "metadata": {
  "kernelspec": {
   "display_name": ".venv",
   "language": "python",
   "name": "python3"
  },
  "language_info": {
   "codemirror_mode": {
    "name": "ipython",
    "version": 3
   },
   "file_extension": ".py",
   "mimetype": "text/x-python",
   "name": "python",
   "nbconvert_exporter": "python",
   "pygments_lexer": "ipython3",
   "version": "3.10.12"
  }
 },
 "nbformat": 4,
 "nbformat_minor": 2
}
